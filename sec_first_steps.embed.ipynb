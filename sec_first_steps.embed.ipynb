{
 "cells": [
  {
   "cell_type": "markdown",
   "metadata": {},
   "source": [
    "# \n",
    "\n",
    "In this first chapter we will learn to use Xschem for schematic entry, and how to operate the ngspice SPICE simulator for circuit simulations. Further, we will make ourself familiar with the transistor and other passive components available in the IHP Microelectronics SG13G2 technology. While this is strictly speaking a BiCMOS technology offering MOSFETs as well as SiGe HBTs, we will use it as a pure CMOS technology.\n",
    "\n",
    "### The Metal-Oxide-Semiconductor Field-Effect-Transistor (MOSFET)\n",
    "\n",
    "A first step in any new IC technology should be to investigate basic MOSFET performance, by doing simple dc sweeps of $V_\\mathrm{GS}$ and $V_\\mathrm{DS}$ and looking at $I_\\mathrm{DS}$ and other large- and small-signal parameters.\n",
    "\n",
    "In order to get started, basic Xschem testbenches are prepared.\n",
    "\n",
    "#### Student Exersize\n",
    "\n",
    "1.  Try to get the LV NMOS testbench at <https://github.com/iic-jku/analog-circuit-design/blob/main/xschem/dc_lv_nmos.sch> operating.\n",
    "2.  Make yourself familiar with Xschem (change the schematic, run a simulation, graph the result).\n",
    "3.  Make youself familiar with ngspice (run various simulations, save nets and parameters, use the embedded Xschem graphing, explore the interactive ngspice shell to look and MOSFET model parameters).\n",
    "4.  Explore the LV NMOS\n",
    "    1.  How are $g_\\mathrm{m}$, $g_\\mathrm{ds}$, and $V_\\mathrm{th}$ changing when you change the dc node voltages?\n",
    "    2.  Can you hand-calculate $g_\\mathrm{m}$? Does it fit? See what happens when $V_\\mathrm{GS} > V_\\mathrm{th}$ or $V_\\mathrm{GS} < V_\\mathrm{th}$, and concurrently vary $V_\\mathrm{DS}$.\n",
    "    3.  Change $W$ and $L$ of the MOSFET. What is the impact on the above parameters? Can you explain the variations?\n",
    "    4.  How is $V_\\mathrm{th}$ changing with $W$ and $L$? Can you explain what you are seeing.\n",
    "    5.  Take a look at the device capacitances $C_\\mathrm{GG}$ and $C_\\mathrm{GD}$. Why are they important? What is the relation to $f_\\mathrm{T}$?\n",
    "    6.  When looking at the model parameters in ngspice, you see that there is a $C_\\mathrm{GD}$ and a $C_\\_mathrm{DG}$. Why, what is the difference? Sometimes these capacitors show a negative value, why?\n",
    "    7.  In this course we will only consider the drain-source current noise of the MOSFET. Look at the simulated value and compare with a hand calculation of the noise. In the noise equation there is the factor $\\gamma$, which in triode is $\\gamma=1$ and in saturation is $\\gamma=2/3$ according to basic text books. Which value of $\\gamma$ are you calculating? Why might it be different?\n",
    "5.  Build test benches in Xschem for the LV PMOS, the HV NMOS, and the HV PMOS. Explore the different results.\n",
    "    1.  Which is the fastest device? Why?\n",
    "    2.  What is the difference in $g_\\mathrm{m}$ and other parameters between these four different MOSFETs? Why?\n",
    "6.  Build a test bench to explore the body effect, start with LV NMOS. What happens when $V_\\mathrm{BS} \\neq 0$?"
   ],
   "id": "73e54e53-ca30-493d-b4b5-c61aa74f69f9"
  }
 ],
 "nbformat": 4,
 "nbformat_minor": 5,
 "metadata": {}
}
