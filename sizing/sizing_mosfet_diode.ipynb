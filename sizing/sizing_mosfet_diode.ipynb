{
 "cells": [
  {
   "cell_type": "markdown",
   "metadata": {},
   "source": [
    "# Sizing for MOSFET Diode Example \n",
    "\n",
    "**Copyright 2024 Harald Pretl**\n",
    "\n",
    "Licensed under the Apache License, Version 2.0 (the \"License\");\n",
    "you may not use this file except in compliance with the License.\n",
    "You may obtain a copy of the License at\n",
    "http://www.apache.org/licenses/LICENSE-2.0\n",
    "\n",
    "_Important note: Numpy version 1.x.x is required; an error is thrown for Numpy 2.x.x_"
   ]
  },
  {
   "cell_type": "code",
   "execution_count": 1,
   "metadata": {},
   "outputs": [],
   "source": [
    "# Read table data\n",
    "from pygmid import Lookup as lk\n",
    "import numpy as np\n",
    "lv_nmos = lk('sg13_lv_nmos.mat')\n",
    "lv_pmos = lk('sg13_lv_pmos.mat')\n",
    "# List of parameters: VGS, VDS, VSB, L, W, NFING, ID, VT, GM, GMB, GDS, CGG, CGB, CGD, CGS, CDD, CSS, STH, SFL\n",
    "# If not specified, minimum L, VDS=max(vgs)/2=0.9 and VSB=0 are used "
   ]
  },
  {
   "cell_type": "code",
   "execution_count": 2,
   "metadata": {},
   "outputs": [],
   "source": [
    "# Define the given values\n",
    "id_spec = 20e-6\n",
    "gm_id_spec = 10\n",
    "L_spec = 0.13"
   ]
  },
  {
   "cell_type": "code",
   "execution_count": 3,
   "metadata": {},
   "outputs": [
    {
     "name": "stdout",
     "output_type": "stream",
     "text": [
      "gm = 0.2 mS\n"
     ]
    }
   ],
   "source": [
    "# We can calculate the gm directly\n",
    "gm = gm_id_spec * id_spec\n",
    "print('gm =', gm/1e-3, 'mS')"
   ]
  },
  {
   "cell_type": "code",
   "execution_count": 4,
   "metadata": {},
   "outputs": [],
   "source": [
    "vgs = lv_nmos.look_upVGS(GM_ID=gm_id_spec, L=L_spec, VDS=0.75, VSB=0.0)\n",
    "vgs = lv_nmos.look_upVGS(GM_ID=gm_id_spec, L=L_spec, VDS=vgs, VSB=0.0)"
   ]
  },
  {
   "cell_type": "code",
   "execution_count": 5,
   "metadata": {},
   "outputs": [
    {
     "name": "stdout",
     "output_type": "stream",
     "text": [
      "gds = 10.87927113537607 uS\n"
     ]
    }
   ],
   "source": [
    "# The gm_gds we look up and calculate gds from it\n",
    "gm_gds = lv_nmos.lookup('GM_GDS', GM_ID=gm_id_spec, L=L_spec, VDS=vgs, VSB=0)\n",
    "gds = gm / gm_gds\n",
    "print('gds =', gds/1e-6, 'uS')"
   ]
  },
  {
   "cell_type": "code",
   "execution_count": 6,
   "metadata": {},
   "outputs": [
    {
     "name": "stdout",
     "output_type": "stream",
     "text": [
      "Cgg = 1.3850378609536809 fF\n",
      "f_T = 22.982035015607114 GHz\n"
     ]
    }
   ],
   "source": [
    "# Find f_T (which is not stored directly, but we can find the gm to gate capacitance ratio)\n",
    "gm_cgg = lv_nmos.lookup('GM_CGG', GM_ID=gm_id_spec, L=L_spec, VDS=vgs, VSB=0)\n",
    "f_T = gm_cgg / (2*np.pi)\n",
    "print('Cgg =', gm/gm_cgg/1e-15, 'fF')\n",
    "print('f_T =', f_T/1e9, 'GHz')\n"
   ]
  },
  {
   "cell_type": "code",
   "execution_count": 7,
   "metadata": {},
   "outputs": [
    {
     "name": "stdout",
     "output_type": "stream",
     "text": [
      "W = 0.8609408128056297 um, rounded W = 1.0 um\n"
     ]
    }
   ],
   "source": [
    "# Find the W of the diode transistor\n",
    "id_w = lv_nmos.lookup('ID_W', GM_ID=gm_id_spec, L=L_spec, VDS=vgs, VSB=0)\n",
    "w = id_spec / id_w\n",
    "print('W =', w, 'um, rounded W =', round(w*2)/2, 'um')"
   ]
  },
  {
   "cell_type": "code",
   "execution_count": 8,
   "metadata": {},
   "outputs": [
    {
     "name": "stdout",
     "output_type": "stream",
     "text": [
      "V_GS = 0.5907233171282525 V\n",
      "gamma = 0.809081311364605\n",
      "f_co = 15.842469386921188 MHz\n"
     ]
    }
   ],
   "source": [
    "# Let's now find the other interesting values\n",
    "# Lookup normalized noise power spectral densisties and denormalize with the gm from above\n",
    "sth = lv_nmos.lookup('STH_GM', VGS=vgs, L=L_spec, VDS=vgs, VSB=0)*gm\n",
    "sfl = lv_nmos.lookup('SFL_GM', VGS=vgs, L=L_spec, VDS=vgs, VSB=0)*gm\n",
    "\n",
    "gamma = sth/(4*1.38e-23*300*gm)\n",
    "\n",
    "f_co = sfl/sth\n",
    "print('V_GS =', vgs, 'V')\n",
    "print('gamma =', gamma)\n",
    "print('f_co =', f_co/1e6, 'MHz')"
   ]
  }
 ],
 "metadata": {
  "kernelspec": {
   "display_name": "Python 3 (ipykernel)",
   "language": "python",
   "name": "python3"
  },
  "language_info": {
   "codemirror_mode": {
    "name": "ipython",
    "version": 3
   },
   "file_extension": ".py",
   "mimetype": "text/x-python",
   "name": "python",
   "nbconvert_exporter": "python",
   "pygments_lexer": "ipython3",
   "version": "3.12.5"
  }
 },
 "nbformat": 4,
 "nbformat_minor": 2
}
