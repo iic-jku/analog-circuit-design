{
 "cells": [
  {
   "cell_type": "markdown",
   "metadata": {},
   "source": [
    "# Conversion of TXT to MAT for gm/ID result files for SG13G2"
   ],
   "id": "65b0a2a2-1642-460b-8b6f-b9ca36003e91"
  },
  {
   "cell_type": "markdown",
   "metadata": {},
   "source": [
    "**(c) 2024 Boris Murmann and Harald Pretl**\n",
    "\n",
    "Licensed under the Apache License, Version 2.0 (the “License”); you may not use this file except in compliance with the License. You may obtain a copy of the License at http://www.apache.org/licenses/LICENSE-2.0"
   ],
   "id": "cell-1"
  },
  {
   "cell_type": "code",
   "execution_count": 1,
   "metadata": {},
   "outputs": [],
   "source": [
    "import pandas as pd\n",
    "import numpy as np\n",
    "from numpy._core.records import fromarrays\n",
    "from scipy.io import savemat"
   ],
   "id": "cell-2"
  },
  {
   "cell_type": "code",
   "execution_count": 2,
   "metadata": {},
   "outputs": [],
   "source": [
    "choice = 1  #start from 0\n",
    "devices = ['sg13_lv_nmos', 'sg13_lv_pmos']\n",
    "\n",
    "# widths used for characterization and fringe cap parameters (fringe caps are not included in ngspice output)\n",
    "w = np.array([5, 5])\n",
    "nfing = np.array([1, 1])"
   ],
   "id": "cell-3"
  },
  {
   "cell_type": "code",
   "execution_count": 3,
   "metadata": {},
   "outputs": [],
   "source": [
    "df_raw = pd.read_csv('techsweep_'+devices[choice]+'.txt', sep=r'\\s+')\n",
    "par_names = df_raw.columns.to_list()\n",
    "par_prefix = par_names[1].split('[')[0]"
   ],
   "id": "cell-4"
  },
  {
   "cell_type": "code",
   "execution_count": 4,
   "metadata": {},
   "outputs": [
    {
     "output_type": "display_data",
     "metadata": {},
     "data": {
      "text/html": [
       "\n",
       "<p>119072 rows × 22 columns</p>\n",
       "</div>"
      ]
     }
    }
   ],
   "source": [
    "# remove extra headers in file body and unwanted columns\n",
    "df_raw = df_raw[~df_raw['v-sweep'].str.contains('v-sweep')]\n",
    "df = df_raw.drop(['v-sweep', 'v-sweep.1'], axis=1)\n",
    "df = df.apply(pd.to_numeric)\n",
    "\n",
    "# rename columns for readability\n",
    "df.columns = df.columns.str.removeprefix(par_prefix+'[')\n",
    "df.columns = df.columns.str.removesuffix(']')\n",
    "df"
   ],
   "id": "cell-5"
  },
  {
   "cell_type": "code",
   "execution_count": 5,
   "metadata": {},
   "outputs": [],
   "source": [
    "# sweep variable vectors\n",
    "l = (np.unique(abs(df['l']))*1e6).round(3)\n",
    "vgs = np.unique(abs(df['g']))\n",
    "vds = np.unique(abs(df['d']))\n",
    "vsb = np.unique(abs(df['b']))"
   ],
   "id": "cell-6"
  },
  {
   "cell_type": "code",
   "execution_count": 6,
   "metadata": {},
   "outputs": [],
   "source": [
    "# data\n",
    "# ngspice sweep order is vgs, vds, vsb, l\n",
    "dims = [len(vgs), len(vds), len(vsb), len(l)]\n",
    "id = np.reshape(df['ids'].values, dims, order='F')\n",
    "vt = np.reshape(df['vth'].values, dims, order='F')\n",
    "gm = np.reshape(df['gm'].values, dims, order='F')\n",
    "gmb = np.reshape(df['gmb'].values, dims, order='F')\n",
    "gds = np.reshape(df['gds'].values, dims, order='F')\n",
    "cgsol = np.reshape(df['cgsol'].values, dims, order='F')\n",
    "cgg = np.reshape(df['cgg'].values, dims, order='F') \\\n",
    "      + np.reshape(df['cgdol'].values, dims, order='F') \\\n",
    "      + np.reshape(df['cgsol'].values, dims, order='F')\n",
    "cgb = -np.reshape(df['cgb'].values, dims, order='F')\n",
    "cgd = -np.reshape(df['cgd'].values, dims, order='F') \\\n",
    "      + np.reshape(df['cgdol'].values, dims, order='F')\n",
    "cgs = -np.reshape(df['cgs'].values, dims, order='F') \\\n",
    "      + np.reshape(df['cgsol'].values, dims, order='F')\n",
    "cdd = np.reshape(df['cdd'].values, dims, order='F') \\\n",
    "      + np.reshape(df['cjd'].values, dims, order='F') \\\n",
    "      + np.reshape(df['cgdol'].values, dims, order='F')\n",
    "css = np.reshape(df['css'].values, dims, order='F') \\\n",
    "      + np.reshape(df['cjs'].values, dims, order='F') \\\n",
    "      + np.reshape(df['cgsol'].values, dims, order='F')\n",
    "\n",
    "# output order for standard mat file is l, vgs, vds, vsb\n",
    "id = np.transpose(id, (3, 0, 1, 2))\n",
    "vt = np.transpose(vt, (3, 0, 1, 2))\n",
    "gm = np.transpose(gm, (3, 0, 1, 2))\n",
    "gmb = np.transpose(gmb, (3, 0, 1, 2))\n",
    "gds = np.transpose(gds, (3, 0, 1, 2))\n",
    "cgg = np.transpose(cgg, (3, 0, 1, 2))\n",
    "cgb = np.transpose(cgb, (3, 0, 1, 2))\n",
    "cgd = np.transpose(cgd, (3, 0, 1, 2))\n",
    "cgs = np.transpose(cgs, (3, 0, 1, 2))\n",
    "cdd = np.transpose(cdd, (3, 0, 1, 2))\n",
    "css = np.transpose(css, (3, 0, 1, 2))"
   ],
   "id": "cell-7"
  },
  {
   "cell_type": "code",
   "execution_count": 7,
   "metadata": {},
   "outputs": [],
   "source": [
    "dic = {\n",
    "  \"INFO\": \"IHP SG13G2, 130nm CMOS, PSP\",\n",
    "  \"CORNER\": \"NOM\",\n",
    "  \"TEMP\": 300.0,\n",
    "  \"VGS\": vgs,\n",
    "  \"VDS\": vds,\n",
    "  \"VSB\": vsb,\n",
    "  \"L\": l,\n",
    "  \"W\": w[choice],\n",
    "  \"NFING\": nfing[choice],\n",
    "  \"ID\": id,\n",
    "  \"VT\": vt,\n",
    "  \"GM\": gm,\n",
    "  \"GMB\": gmb,\n",
    "  \"GDS\": gds,\n",
    "  \"CGG\": cgg,\n",
    "  \"CGB\": cgb,\n",
    "  \"CGD\": cgd,\n",
    "  \"CGS\": cgs,\n",
    "  \"CDD\": cdd,\n",
    "  \"CSS\": css\n",
    "}\n",
    "\n",
    "savemat(devices[choice]+'.mat', {devices[choice]: dic})"
   ],
   "id": "cell-8"
  }
 ],
 "nbformat": 4,
 "nbformat_minor": 5,
 "metadata": {}
}
