{
 "cells": [
  {
   "cell_type": "markdown",
   "metadata": {},
   "source": [
    "# Conversion of TXT to MAT for gm/ID result files for SG13G2"
   ],
   "id": "aac8efcb-f2a1-4ec9-b153-533e1af0ca2f"
  },
  {
   "cell_type": "markdown",
   "metadata": {},
   "source": [
    "**(c) 2024 Boris Murmann and Harald Pretl**\n",
    "\n",
    "Licensed under the Apache License, Version 2.0 (the “License”); you may not use this file except in compliance with the License. You may obtain a copy of the License at http://www.apache.org/licenses/LICENSE-2.0"
   ],
   "id": "cell-1"
  },
  {
   "cell_type": "code",
   "execution_count": 1,
   "metadata": {},
   "outputs": [],
   "source": [
    "import pandas as pd\n",
    "import numpy as np\n",
    "from numpy.core.records import fromarrays\n",
    "from scipy.io import savemat"
   ],
   "id": "cell-2"
  },
  {
   "cell_type": "code",
   "execution_count": 2,
   "metadata": {},
   "outputs": [],
   "source": [
    "choice = 0  #start from 0\n",
    "devices = ['sg13_lv_nmos', 'sg13_lv_pmos']\n",
    "\n",
    "# widths used for characterization and fringe cap parameters (fringe caps are not included in ngspice output)\n",
    "w = np.array([5, 5])\n",
    "nfing = np.array([1, 1])"
   ],
   "id": "cell-3"
  },
  {
   "cell_type": "code",
   "execution_count": 3,
   "metadata": {},
   "outputs": [],
   "source": [
    "df_raw = pd.read_csv('techsweep_'+devices[choice]+'.txt', sep=r'\\s+')\n",
    "par_names = df_raw.columns.to_list()\n",
    "par_prefix = par_names[1].split('[')[0]"
   ],
   "id": "cell-4"
  },
  {
   "cell_type": "code",
   "execution_count": 4,
   "metadata": {},
   "outputs": [
    {
     "output_type": "display_data",
     "metadata": {},
     "data": {
      "text/html": [
       "\n",
       "<p>119072 rows × 24 columns</p>\n",
       "</div>"
      ]
     }
    }
   ],
   "source": [
    "# remove extra headers in file body and unwanted columns\n",
    "df = df_raw.drop(['frequency', 'frequency.1'], axis=1)\n",
    "df = df.apply(pd.to_numeric)\n",
    "\n",
    "# rename columns for readability\n",
    "df.columns = df.columns.str.removeprefix(par_prefix+'[')\n",
    "df.columns = df.columns.str.replace(par_prefix[1:], '')\n",
    "df.columns = df.columns.str.removesuffix(']')\n",
    "\n",
    "# round sweep vectors to easily addressable values\n",
    "df['l'] = df['l'].apply(lambda x: round(x*1e6, 3))\n",
    "df['vgs'] = df['vgs'].apply(lambda x: round(x, 3))\n",
    "df['vds'] = df['vds'].apply(lambda x: round(x, 3))\n",
    "df['vsb'] = df['vsb'].apply(lambda x: round(x, 3))\n",
    "df"
   ],
   "id": "cell-5"
  },
  {
   "cell_type": "code",
   "execution_count": 5,
   "metadata": {},
   "outputs": [],
   "source": [
    "# sweep variable vectors\n",
    "l = np.unique(abs(df['l']))\n",
    "vgs = np.unique(abs(df['vgs']))\n",
    "vds = np.unique(abs(df['vds']))\n",
    "vsb = np.unique(abs(df['vsb']))"
   ],
   "id": "cell-6"
  },
  {
   "cell_type": "code",
   "execution_count": 6,
   "metadata": {},
   "outputs": [],
   "source": [
    "# data\n",
    "# ngspice sweep order is l, vgs, vds, vsb\n",
    "dims = [len(l), len(vgs), len(vds), len(vsb)]\n",
    "id = np.reshape(df['ids'].values, dims, order='C')\n",
    "vt = np.reshape(df['vth'].values, dims, order='C')\n",
    "gm = np.reshape(df['gm'].values, dims, order='C')\n",
    "gmb = np.reshape(df['gmb'].values, dims, order='C')\n",
    "gds = np.reshape(df['gds'].values, dims, order='C')\n",
    "cgsol = np.reshape(df['cgsol'].values, dims, order='C')\n",
    "cgg = np.reshape(df['cgg'].values, dims, order='C') \\\n",
    "      + np.reshape(df['cgdol'].values, dims, order='C') \\\n",
    "      + np.reshape(df['cgsol'].values, dims, order='C')\n",
    "cgb = -np.reshape(df['cgb'].values, dims, order='C')\n",
    "cgd = -np.reshape(df['cgd'].values, dims, order='C') \\\n",
    "      + np.reshape(df['cgdol'].values, dims, order='C')\n",
    "cgs = -np.reshape(df['cgs'].values, dims, order='C') \\\n",
    "      + np.reshape(df['cgsol'].values, dims, order='C')\n",
    "cdd = np.reshape(df['cdd'].values, dims, order='C') \\\n",
    "      + np.reshape(df['cjd'].values, dims, order='C') \\\n",
    "      + np.reshape(df['cgdol'].values, dims, order='C')\n",
    "css = np.reshape(df['css'].values, dims, order='C') \\\n",
    "      + np.reshape(df['cjs'].values, dims, order='C') \\\n",
    "      + np.reshape(df['cgsol'].values, dims, order='C')\n",
    "sth = np.reshape(df['sid'].values, dims, order='C')\n",
    "sfl = np.reshape(df['sfl'].values, dims, order='C')"
   ],
   "id": "cell-7"
  },
  {
   "cell_type": "code",
   "execution_count": 7,
   "metadata": {},
   "outputs": [],
   "source": [
    "dic = {\n",
    "  \"INFO\": \"IHP SG13G2, 130nm CMOS, PSP\",\n",
    "  \"CORNER\": \"NOM\",\n",
    "  \"TEMP\": 300.0,\n",
    "  \"VGS\": vgs,\n",
    "  \"VDS\": vds,\n",
    "  \"VSB\": vsb,\n",
    "  \"L\": l,\n",
    "  \"W\": w[choice],\n",
    "  \"NFING\": nfing[choice],\n",
    "  \"ID\": id,\n",
    "  \"VT\": vt,\n",
    "  \"GM\": gm,\n",
    "  \"GMB\": gmb,\n",
    "  \"GDS\": gds,\n",
    "  \"CGG\": cgg,\n",
    "  \"CGB\": cgb,\n",
    "  \"CGD\": cgd,\n",
    "  \"CGS\": cgs,\n",
    "  \"CDD\": cdd,\n",
    "  \"CSS\": css,\n",
    "  \"STH\": sth,\n",
    "  \"SFL\": sfl\n",
    "}\n",
    "\n",
    "savemat(devices[choice]+'.mat', {devices[choice]: dic})"
   ],
   "id": "cell-8"
  }
 ],
 "nbformat": 4,
 "nbformat_minor": 5,
 "metadata": {}
}
