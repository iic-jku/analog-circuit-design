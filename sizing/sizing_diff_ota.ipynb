{
 "cells": [
  {
   "cell_type": "markdown",
   "metadata": {},
   "source": [
    "# Sizing for Differential OTA {.unnumbered .unlisted}\n",
    "\n",
    "**Copyright 2025 Harald Pretl**\n",
    "\n",
    "Licensed under the Apache License, Version 2.0 (the \"License\");\n",
    "you may not use this file except in compliance with the License.\n",
    "You may obtain a copy of the License at\n",
    "http://www.apache.org/licenses/LICENSE-2.0"
   ]
  },
  {
   "cell_type": "code",
   "execution_count": 1,
   "metadata": {
    "jupyter": {
     "source_hidden": true
    }
   },
   "outputs": [],
   "source": [
    "# read table data\n",
    "from pygmid import Lookup as lk\n",
    "import numpy as np\n",
    "lv_nmos = lk('sg13_lv_nmos.mat')\n",
    "lv_pmos = lk('sg13_lv_pmos.mat')\n",
    "# list of parameters: VGS, VDS, VSB, L, W, NFING, ID, VT, GM, GMB, GDS, CGG, CGB, CGD, CGS, CDD, CSS, STH, SFL\n",
    "# if not specified, minimum L, VDS=max(vgs)/2=0.9 and VSB=0 are used "
   ]
  },
  {
   "cell_type": "code",
   "execution_count": 2,
   "metadata": {},
   "outputs": [],
   "source": [
    "# define the given parameters as taken from the specification table or initial guesses\n",
    "# input differential pair\n",
    "gm_id_m12 = 10\n",
    "l_12 = 0.5\n",
    "# diffpair load\n",
    "gm_id_m35 = 5\n",
    "l_35 = 0.5\n",
    "# common-source output stage\n",
    "gm_id_m46 = gm_id_m35\n",
    "l_46 = l_35\n",
    "# current source output stage\n",
    "gm_id_m78 = 5\n",
    "l_78 = 5\n",
    "# current sources\n",
    "gm_id_m1011 = 5\n",
    "l_1011 = 5\n",
    "# bias currents\n",
    "i_bias_in = 20e-6\n",
    "i_bias_diffpair = 200e-6\n",
    "i_bias_stage2 = i_bias_diffpair/2\n",
    "i_bias_levelshift = i_bias_in\n",
    "# supply voltage\n",
    "vdd_min = 1.45\n",
    "vdd_max = 1.55\n",
    "vdd = (vdd_min+vdd_max)/2\n",
    "# bandwidth requirement\n",
    "gbw = 1e9"
   ]
  },
  {
   "cell_type": "code",
   "execution_count": 3,
   "metadata": {},
   "outputs": [
    {
     "name": "stdout",
     "output_type": "stream",
     "text": [
      "gm12 = 1.0 mS\n",
      "gm35 = 0.5 mS\n",
      "gds12 = 47.3 µS\n",
      "gds35 = 16.5 µS\n",
      "R_load (due to MOSFETs) = 15.7 kOhm\n"
     ]
    }
   ],
   "source": [
    "# we set the bias current of the diffpair, so calculate gm \n",
    "gm_m12 = gm_id_m12 * i_bias_diffpair/2\n",
    "print('gm12 =', round(gm_m12/1e-3, 4), 'mS')\n",
    "# we can also calculate the gm of the load\n",
    "gm_m35 = gm_id_m35 * i_bias_diffpair/2\n",
    "print('gm35 =', round(gm_m35/1e-3, 4), 'mS')\n",
    "\n",
    "# lookup the gds of the input diffpair\n",
    "gm_gds_m12 = lv_nmos.lookup('GM_GDS', GM_ID=gm_id_m12, L=l_12, VDS=0.4, VSB=0)\n",
    "gds_m12 = gm_m12 / gm_gds_m12\n",
    "# lookup the gds of the diffpair load\n",
    "gm_gds_m35 = lv_pmos.lookup('GM_GDS', GM_ID=gm_id_m35, L=l_35, VDS=0.5, VSB=0)\n",
    "gds_m35 = gm_m35 / gm_gds_m35\n",
    "# show the values\n",
    "print('gds12 =', round(gds_m12/1e-6, 1), 'µS')\n",
    "print('gds35 =', round(gds_m35/1e-6, 1), 'µS')\n",
    "\n",
    "# print the simplified impedance at the load of the diffpair (just using the gds)\n",
    "print('R_load (due to MOSFETs) =', round(1/(gds_m12+gds_m35)/1e3, 1), 'kOhm')"
   ]
  },
  {
   "cell_type": "code",
   "execution_count": 4,
   "metadata": {},
   "outputs": [
    {
     "name": "stdout",
     "output_type": "stream",
     "text": [
      "R_load (MOSFET + R_12) = 13.6 kOhm\n",
      "Gain first stage (differential) =  22.6 dB\n"
     ]
    }
   ],
   "source": [
    "# here we select the resistors large enough to not limit the resistance\n",
    "R12 = 100e3\n",
    "\n",
    "# calculate effect load resistance\n",
    "R_load = 1/(1/R12 + gds_m12 + gds_m35)\n",
    "print('R_load (MOSFET + R_12) =', round(R_load/1e3, 1), 'kOhm')\n",
    "\n",
    "# calculate gain of first stage\n",
    "A1 = R_load * gm_m12\n",
    "print('Gain first stage (differential) = ', round(20*np.log10(abs(A1)), 1), 'dB')"
   ]
  },
  {
   "cell_type": "code",
   "execution_count": 5,
   "metadata": {},
   "outputs": [
    {
     "name": "stdout",
     "output_type": "stream",
     "text": [
      "R_out (due to MOSFETs) = 57.9 kOhm\n",
      "Gain second stage (differential) =  26.6 dB\n",
      "Gain total (differential) =  49.2 dB\n"
     ]
    }
   ],
   "source": [
    "# we get the gm and gds of the common-source output stage\n",
    "gm_m46 = gm_id_m46 * i_bias_stage2\n",
    "gm_gds_m46 = lv_pmos.lookup('GM_GDS', GM_ID=gm_id_m46, L=l_46, VDS=0.75, VSB=0)\n",
    "gds_m46 = gm_m46 / gm_gds_m46\n",
    "# we get the gm and gds of the current source of the output stage\n",
    "gm_m78 = gm_id_m78 * i_bias_stage2 \n",
    "gm_gds_m78 = lv_nmos.lookup('GM_GDS', GM_ID=gm_id_m78, L=l_78, VDS=0.75, VSB=0)\n",
    "gds_m78 = gm_m78 / gm_gds_m78\n",
    "\n",
    "# output resistance due to second stage\n",
    "print('R_out (due to MOSFETs) =', round(1/(gds_m78+gds_m46)/1e3, 1), 'kOhm')\n",
    "# select R34 (based on above calculation), also consider value of offset current below\n",
    "R34 = 160e3\n",
    "\n",
    "# calculate the gain of the 2nd stage\n",
    "A2 = gm_m46 / (gds_m78 + gds_m46 + 1/R34)\n",
    "print('Gain second stage (differential) = ', round(20*np.log10(abs(A2)), 1), 'dB')\n",
    "\n",
    "print('Gain total (differential) = ', round(20*np.log10(abs(A1*A2)), 1), 'dB')\n"
   ]
  },
  {
   "cell_type": "code",
   "execution_count": 6,
   "metadata": {},
   "outputs": [
    {
     "name": "stdout",
     "output_type": "stream",
     "text": [
      "Parasitic load capacitance (due to MOSFETs) = 58.2 fF\n",
      "Dominant pole = 3.47 MHz\n",
      "Miller cap = 0.101 pF\n",
      "Miller res = 6.0 kOhm\n"
     ]
    }
   ],
   "source": [
    "# we calculate the MOSFET capacitance which adds to Cmiller\n",
    "gm_cdd_m12 = lv_nmos.lookup('GM_CDD', GM_ID=gm_id_m12, L=l_12, VDS=0.4, VSB=0)\n",
    "gm_cdd_m35 = lv_pmos.lookup('GM_CDD', GM_ID=gm_id_m35, L=l_35, VDS=0.5, VSB=0)\n",
    "gm_cgg_m46 = lv_pmos.lookup('GM_CGG', GM_ID=gm_id_m46, L=l_46, VDS=0.75, VSB=0)\n",
    "\n",
    "c_load = abs(gm_m12/gm_cdd_m12) + abs(gm_m35/gm_cdd_m35) + abs(gm_m46/gm_cgg_m46)\n",
    "print('Parasitic load capacitance (due to MOSFETs) =', round(c_load/1e-15, 1), 'fF')\n",
    "\n",
    "# now calculate the Miller cap based on the GBW requirement\n",
    "f_dompole = gbw / (A1*A2)\n",
    "print('Dominant pole =', round(f_dompole/1e6, 2), 'MHz')\n",
    "\n",
    "# calculate Miller cap\n",
    "C_miller = 1/(2*np.pi * f_dompole * R_load) / A2 - c_load\n",
    "print('Miller cap =', round(C_miller/1e-12, 3), 'pF')\n",
    "\n",
    "# RHP resistance (safety factor of 3)\n",
    "R_miller = 1/gm_m46 * 3\n",
    "print('Miller res =', round(R_miller/1e3, 1), 'kOhm')"
   ]
  },
  {
   "cell_type": "code",
   "execution_count": 7,
   "metadata": {},
   "outputs": [
    {
     "name": "stdout",
     "output_type": "stream",
     "text": [
      "vgs_12 = 0.442 V\n",
      "vgs_35 = 0.743 V\n",
      "vgs_46 = 0.745 V\n",
      "vgs_78 = 0.591 V\n"
     ]
    }
   ],
   "source": [
    "# we can now look up the VGS of the MOSFET\n",
    "vgs_m12 = lv_nmos.look_upVGS(GM_ID=gm_id_m12, L=l_12, VDS=0.4, VSB=0.0)\n",
    "vgs_m35 = lv_pmos.look_upVGS(GM_ID=gm_id_m35, L=l_35, VDS=0.5, VSB=0.0) \n",
    "vgs_m46 = lv_pmos.look_upVGS(GM_ID=gm_id_m46, L=l_46, VDS=0.75, VSB=0.0) \n",
    "vgs_m78 = lv_nmos.look_upVGS(GM_ID=gm_id_m78, L=l_78, VDS=0.75, VSB=0.0) \n",
    "\n",
    "print('vgs_12 =', round(float(vgs_m12), 3), 'V')\n",
    "print('vgs_35 =', round(float(vgs_m35), 3), 'V')\n",
    "print('vgs_46 =', round(float(vgs_m46), 3), 'V')\n",
    "print('vgs_78 =', round(float(vgs_m78), 3), 'V')"
   ]
  },
  {
   "cell_type": "code",
   "execution_count": 8,
   "metadata": {},
   "outputs": [
    {
     "name": "stdout",
     "output_type": "stream",
     "text": [
      "M1/2 W = 10.08 um, rounded W = 10.0 um\n",
      "M3/5 W = 8.56 um, rounded W = 8.5 um\n",
      "M4/6 W = 8.56 um, rounded W = 8.5 um\n",
      "M7/8 W = 18.26 um, rounded W = 18.5 um\n",
      "M9 W = 3.5 um\n",
      "M10 W = 35.0 um\n"
     ]
    }
   ],
   "source": [
    "# calculate all widths\n",
    "id_w_m12 = lv_nmos.lookup('ID_W', GM_ID=gm_id_m12, L=l_12, VDS=0.4, VSB=0)\n",
    "w_12 = i_bias_diffpair/2 / id_w_m12\n",
    "w_12_round = max(round(w_12*2)/2, 0.5)\n",
    "print('M1/2 W =', round(w_12, 2), 'um, rounded W =', w_12_round, 'um')\n",
    "\n",
    "id_w_m35 = lv_pmos.lookup('ID_W', GM_ID=gm_id_m35, L=l_35, VDS=vgs_m35, VSB=0)\n",
    "w_35 = i_bias_diffpair/2 / id_w_m35\n",
    "w_35_round = max(round(w_35*2)/2, 0.5) \n",
    "print('M3/5 W =', round(w_35, 2), 'um, rounded W =', w_35_round, 'um')\n",
    "\n",
    "id_w_m46 = lv_pmos.lookup('ID_W', GM_ID=gm_id_m46, L=l_46, VDS=0.75, VSB=0)\n",
    "w_46 = i_bias_stage2 / id_w_m46\n",
    "w_46_round = max(round(w_46*2)/2, 0.5) \n",
    "print('M4/6 W =', round(w_46, 2), 'um, rounded W =', w_46_round, 'um')\n",
    "\n",
    "id_w_m78 = lv_nmos.lookup('ID_W', GM_ID=gm_id_m78, L=l_78, VDS=0.75, VSB=0)\n",
    "w_78 = i_bias_stage2 / id_w_m78\n",
    "w_78_round = max(round(w_78*2)/2, 0.5) \n",
    "print('M7/8 W =', round(w_78, 2), 'um, rounded W =', w_78_round, 'um')\n",
    "\n",
    "id_w_m10 = lv_nmos.lookup('ID_W', GM_ID=gm_id_m1011, L=l_1011, VDS=0.75, VSB=0)\n",
    "w_10 = i_bias_diffpair / id_w_m10\n",
    "w_9 = w_10 * i_bias_in / i_bias_diffpair\n",
    "w_9_round = max(round(w_9*2)/2, 0.5)\n",
    "print('M9 W =', round(w_9_round, 2), 'um')\n",
    "w_10_round = w_9_round * i_bias_diffpair / i_bias_in\n",
    "print('M10 W =', w_10_round, 'um')"
   ]
  },
  {
   "cell_type": "code",
   "execution_count": 9,
   "metadata": {},
   "outputs": [
    {
     "name": "stdout",
     "output_type": "stream",
     "text": [
      "Required output offset current = 1.0 µA\n",
      "Ratio of M9/M11 = 20.2\n"
     ]
    }
   ],
   "source": [
    "# calculate offset current for output common-mode\n",
    "i_offset = (vdd/2 - vgs_m78) / R34\n",
    "print('Required output offset current =', round(i_offset/1e-6, 1), 'µA')\n",
    "w_11_round = w_9_round * i_offset / i_bias_in\n",
    "print('Ratio of M9/M11 =', round(i_bias_in/i_offset, 1))"
   ]
  },
  {
   "cell_type": "code",
   "execution_count": 10,
   "metadata": {},
   "outputs": [
    {
     "name": "stdout",
     "output_type": "stream",
     "text": [
      "Gain total (common-mode) =  -22.8 dB\n"
     ]
    }
   ],
   "source": [
    "# calculate common-mode gain\n",
    "gm_m10 = gm_id_m1011 * i_bias_diffpair\n",
    "gm_gds_m10 = lv_nmos.lookup('GM_GDS', GM_ID=gm_id_m1011, L=l_1011, VDS=0.4, VSB=0)\n",
    "gds_m10 = gm_m10 / gm_gds_m10\n",
    "A_cm1 = -gm_m12 * gds_m10 / (gm_m35 * (gm_m12 + gds_m10))\n",
    "A_cm2 = -gm_m46 / gm_m78\n",
    "\n",
    "print('Gain total (common-mode) = ', round(20*np.log10(abs(A_cm1*A_cm2)), 1), 'dB')"
   ]
  }
 ],
 "metadata": {
  "kernelspec": {
   "display_name": "Python 3",
   "language": "python",
   "name": "python3"
  },
  "language_info": {
   "codemirror_mode": {
    "name": "ipython",
    "version": 3
   },
   "file_extension": ".py",
   "mimetype": "text/x-python",
   "name": "python",
   "nbconvert_exporter": "python",
   "pygments_lexer": "ipython3",
   "version": "3.13.1"
  }
 },
 "nbformat": 4,
 "nbformat_minor": 4
}
