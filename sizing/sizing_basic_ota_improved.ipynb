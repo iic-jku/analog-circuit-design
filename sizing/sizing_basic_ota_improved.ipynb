{
 "cells": [
  {
   "cell_type": "markdown",
   "metadata": {},
   "source": [
    "# Sizing for Basic (Improved) OTA \n",
    "\n",
    "**Copyright 2024 Harald Pretl**\n",
    "\n",
    "Licensed under the Apache License, Version 2.0 (the \"License\");\n",
    "you may not use this file except in compliance with the License.\n",
    "You may obtain a copy of the License at\n",
    "http://www.apache.org/licenses/LICENSE-2.0"
   ]
  },
  {
   "cell_type": "code",
   "execution_count": 1,
   "metadata": {},
   "outputs": [],
   "source": [
    "# Read table data\n",
    "from pygmid import Lookup as lk\n",
    "import numpy as np\n",
    "lv_nmos = lk('sg13_lv_nmos.mat')\n",
    "lv_pmos = lk('sg13_lv_pmos.mat')\n",
    "# List of parameters: VGS, VDS, VSB, L, W, NFING, ID, VT, GM, GMB, GDS, CGG, CGB, CGD, CGS, CDD, CSS, STH, SFL\n",
    "# If not specified, minimum L, VDS=max(vgs)/2=0.9 and VSB=0 are used "
   ]
  },
  {
   "cell_type": "code",
   "execution_count": 2,
   "metadata": {},
   "outputs": [],
   "source": [
    "# Define the given parameters as taken from the specification table or inital guesses\n",
    "c_load = 50e-15\n",
    "gm_id_m12 = 13\n",
    "gm_id_m12c = 13\n",
    "gm_id_m34 = 13\n",
    "gm_id_m34c = 13\n",
    "gm_id_m56 = 13\n",
    "gm_id_m56c = 13\n",
    "l_12 = 0.5\n",
    "l_12c = 0.5\n",
    "l_34 = 0.5\n",
    "l_34c = 0.5\n",
    "l_56 = 1\n",
    "l_56c = 1\n",
    "f_bw = 10e6\n",
    "i_total_limit = 10e-6\n",
    "i_bias_in = 20e-6\n",
    "output_voltage = 1.3\n",
    "vin_min = 0.7\n",
    "vin_max = 0.9\n",
    "vdd_min = 1.45\n",
    "vdd_max = 1.55\n",
    "vds_headroom = 0.2"
   ]
  },
  {
   "cell_type": "code",
   "execution_count": 3,
   "metadata": {},
   "outputs": [
    {
     "name": "stdout",
     "output_type": "stream",
     "text": [
      "gm12 = 0.05654866776461628 mS\n"
     ]
    }
   ],
   "source": [
    "# We get the required gm of M1/2 from the bandwidth requirement\n",
    "# We add a factor of 3 to allow for PVT variation plus additional MOSFET parasitic loading\n",
    "# We also add an additional factor of 2 to get more dc gain (and there is power still in the budget)\n",
    "gm_m12 = f_bw * 3 * 4*np.pi*c_load * 3\n",
    "print('gm12 =', gm_m12/1e-3, 'mS')"
   ]
  },
  {
   "cell_type": "code",
   "execution_count": 4,
   "metadata": {},
   "outputs": [
    {
     "name": "stdout",
     "output_type": "stream",
     "text": [
      "i_total (exact) = 8.699795040710196 µA\n",
      "i_total (rounded) = 8.0 µA\n",
      "[info] power consumption target is met!\n"
     ]
    }
   ],
   "source": [
    "# Since we know gm12 and the gmid we can calculate the bias current\n",
    "id_m12 = gm_m12 / gm_id_m12\n",
    "i_total = 2*id_m12\n",
    "print('i_total (exact) =', i_total/1e-6, 'µA')\n",
    "# we round to 0.5µA bias currents\n",
    "i_total = max(round(i_total / 1e-6 * 2) / 2 * 1e-6, 0.5e-6)\n",
    "# here is a manual override to set the current; we keep a reserve of 2µA for bias branch\n",
    "i_total = 8e-6\n",
    "id_m12 = i_total/2\n",
    "\n",
    "print('i_total (rounded) =', i_total/1e-6, 'µA')\n",
    "if i_total < i_total_limit:\n",
    "    print('[info] power consumption target is met!')\n",
    "else:\n",
    "    print('[info] power consumption target is NOT met!') "
   ]
  },
  {
   "cell_type": "code",
   "execution_count": 5,
   "metadata": {},
   "outputs": [
    {
     "name": "stdout",
     "output_type": "stream",
     "text": [
      "gds_12 = 4.025519543033504 µs\n",
      "gm_12c/gds_12c = 13.377388738589055\n",
      "gds_34 = 2.031305802765517 µs\n",
      "gm_34c/gds_34c = 24.877072747451322\n",
      "a0 = 43.394151889182424 dB\n"
     ]
    }
   ],
   "source": [
    "# We calculate the dc gain\n",
    "gm_gds_m12 = lv_nmos.lookup('GM_GDS', GM_ID=gm_id_m12, L=l_12, VDS=vds_headroom, VSB=2*vds_headroom)\n",
    "gm_gds_m12c = lv_nmos.lookup('GM_GDS', GM_ID=gm_id_m12c, L=l_12c, VDS=vds_headroom, VSB=3*vds_headroom)\n",
    "gm_gds_m34 = lv_pmos.lookup('GM_GDS', GM_ID=gm_id_m34, L=l_34, VDS=vds_headroom, VSB=0)\n",
    "gm_gds_m34c = lv_pmos.lookup('GM_GDS', GM_ID=gm_id_m34c, L=l_34c, VDS=vds_headroom, VSB=vds_headroom)\n",
    "# conductance of lower cascoded differential pair\n",
    "gds_m12 = gm_m12 / gm_gds_m12\n",
    "gds_m12_casc = gds_m12 / gm_gds_m12c\n",
    "# conductance of upper cascoded current mirror\n",
    "gm_m34 = gm_id_m34 * i_total/2\n",
    "gds_m34 = gm_m34 / gm_gds_m34\n",
    "gds_m34_casc = gds_m34 / gm_gds_m34c\n",
    "\n",
    "print('gds_12 =', gds_m12/1e-6, 'µs')\n",
    "print('gm_12c/gds_12c =',gm_gds_m12c)\n",
    "print('gds_34 =', gds_m34/1e-6, 'µs')\n",
    "print('gm_34c/gds_34c =', gm_gds_m34c)\n",
    "\n",
    "a0 = gm_m12 / (gds_m12_casc + gds_m34_casc)\n",
    "print('a0 =', 20*np.log10(a0), 'dB')"
   ]
  },
  {
   "cell_type": "code",
   "execution_count": 6,
   "metadata": {},
   "outputs": [
    {
     "name": "stdout",
     "output_type": "stream",
     "text": [
      "additional load capacitance = 5.4535230735668225 fF\n",
      "-3dB bandwidth incl. parasitics = 81.14903707795307 MHz\n"
     ]
    }
   ],
   "source": [
    "# We calculate the MOSFET capacitance which adds to Cload, to see the impact on the BW\n",
    "gm_cgs_m12 = lv_nmos.lookup('GM_CGS', GM_ID=gm_id_m12, L=l_12, VDS=vds_headroom, VSB=2*vds_headroom)\n",
    "gm_cdd_m12c = lv_nmos.lookup('GM_CDD', GM_ID=gm_id_m12c, L=l_12c, VDS=vds_headroom, VSB=3*vds_headroom)\n",
    "gm_cdd_m34c = lv_pmos.lookup('GM_CDD', GM_ID=gm_id_m34c, L=l_34c, VDS=vds_headroom, VSB=vds_headroom)\n",
    "\n",
    "c_load_parasitic = abs(gm_m12/gm_cgs_m12) + abs(gm_m12/gm_cdd_m12c) + abs(gm_m34/gm_cdd_m34c)\n",
    "print('additional load capacitance =', c_load_parasitic/1e-15, 'fF')\n",
    "\n",
    "f_bw = gm_m12 / (4*np.pi * (c_load + c_load_parasitic))\n",
    "print('-3dB bandwidth incl. parasitics =', f_bw/1e6, 'MHz')"
   ]
  },
  {
   "cell_type": "code",
   "execution_count": 7,
   "metadata": {},
   "outputs": [
    {
     "name": "stdout",
     "output_type": "stream",
     "text": [
      "vgs_12  = 0.4363351047848177 V\n",
      "vgs_12c = 0.4575885897698743 V\n",
      "vgs_34  = 0.4745538724103232 V\n",
      "vgs_34c = 0.5115503281076889 V\n",
      "vgs_56  = 0.35764913382485647 V\n",
      "vgs_56c = 0.3835723411901689 V\n"
     ]
    }
   ],
   "source": [
    "# We can now look up the VGS of the MOSFET\n",
    "vgs_m12 = lv_nmos.look_upVGS(GM_ID=gm_id_m12, L=l_12, VDS=vds_headroom, VSB=2*vds_headroom)\n",
    "vgs_m12c = lv_nmos.look_upVGS(GM_ID=gm_id_m12c, L=l_12c, VDS=vds_headroom, VSB=3*vds_headroom)\n",
    "vgs_m34 = lv_pmos.look_upVGS(GM_ID=gm_id_m34, L=l_34, VDS=vds_headroom, VSB=0.0) \n",
    "vgs_m34c = lv_pmos.look_upVGS(GM_ID=gm_id_m34c, L=l_34c, VDS=vds_headroom, VSB=vds_headroom) \n",
    "vgs_m56 = lv_nmos.look_upVGS(GM_ID=gm_id_m56, L=l_56, VDS=vds_headroom, VSB=0.0) \n",
    "vgs_m56c = lv_nmos.look_upVGS(GM_ID=gm_id_m56c, L=l_56c, VDS=vds_headroom, VSB=vds_headroom) \n",
    "\n",
    "print('vgs_12  =', vgs_m12, 'V')\n",
    "print('vgs_12c =', vgs_m12c, 'V')\n",
    "print('vgs_34  =', vgs_m34, 'V')\n",
    "print('vgs_34c =', vgs_m34c, 'V')\n",
    "print('vgs_56  =', vgs_m56, 'V')\n",
    "print('vgs_56c =', vgs_m56c, 'V')"
   ]
  },
  {
   "cell_type": "code",
   "execution_count": 8,
   "metadata": {},
   "outputs": [
    {
     "name": "stdout",
     "output_type": "stream",
     "text": [
      "slewing time  = 0.009011197499454612 µs\n",
      "settling time = 0.009806335898909592 µs\n"
     ]
    }
   ],
   "source": [
    "# Calculate settling time due to slewing with the calculated bias current\n",
    "t_slew = (c_load + c_load_parasitic) * output_voltage / i_total\n",
    "print('slewing time  =', t_slew/1e-6, 'µs')\n",
    "t_settle = 5/(2*np.pi*f_bw)\n",
    "print('settling time =', t_settle/1e-6, 'µs')"
   ]
  },
  {
   "cell_type": "code",
   "execution_count": 9,
   "metadata": {},
   "outputs": [
    {
     "name": "stdout",
     "output_type": "stream",
     "text": [
      "voltage gain error = -0.6719920439173688 %\n"
     ]
    }
   ],
   "source": [
    "# Calculate voltage gain error\n",
    "gain_error = a0 / (1 + a0)\n",
    "print('voltage gain error =', (gain_error-1)*100, '%')"
   ]
  },
  {
   "cell_type": "code",
   "execution_count": 10,
   "metadata": {},
   "outputs": [
    {
     "name": "stdout",
     "output_type": "stream",
     "text": [
      "output noise (rms) = 0.3084826103706843 µV\n"
     ]
    }
   ],
   "source": [
    "# Calculate total rms output noise\n",
    "sth_m12 = lv_nmos.lookup('STH_GM', VGS=vgs_m12, L=l_12, VDS=vds_headroom, VSB=2*vds_headroom) * gm_m12\n",
    "gamma_m12 = sth_m12/(4*1.38e-23*300*gm_m12)\n",
    "\n",
    "sth_m34 = lv_pmos.lookup('STH_GM', VGS=vgs_m34, L=l_34, VDS=vds_headroom, VSB=0) * gm_m34\n",
    "gamma_m34 = sth_m34/(4*1.38e-23*300*gm_m34)\n",
    "\n",
    "output_noise_rms = 1.38e-23*300 / (c_load + c_load_parasitic) * (2*gamma_m12 + 2*gamma_m34 * gm_m34/gm_m12)\n",
    "print('output noise (rms) =', output_noise_rms/1e-6, 'µV')"
   ]
  },
  {
   "cell_type": "code",
   "execution_count": 11,
   "metadata": {},
   "outputs": [
    {
     "name": "stdout",
     "output_type": "stream",
     "text": [
      "M1/2  W = 0.8310873754124203 um, rounded W = 1.0 um\n",
      "M1/2c W = 0.8017034903234459 um, rounded W = 1.0 um\n",
      "M3/4  W = 3.281329534410626 um, rounded W = 3.5 um\n",
      "M3/4c W = 2.98941704661016 um, rounded W = 3.0 um\n",
      "M5    W = 3.0508401171424118 um, rounded W = 3.0 um\n",
      "M5c   W = 2.8749923811908227 um, rounded W = 3.0 um\n",
      "M6    W = 7.500000000000002 um\n",
      "M6c   W = 7.500000000000002 um\n"
     ]
    }
   ],
   "source": [
    "# Calculate all widths\n",
    "id_w_m12 = lv_nmos.lookup('ID_W', GM_ID=gm_id_m12, L=l_12, VDS=vds_headroom, VSB=2*vds_headroom)\n",
    "w_12 = id_m12 / id_w_m12\n",
    "w_12_round = max(round(w_12*2)/2, 0.5)\n",
    "print('M1/2  W =', w_12, 'um, rounded W =', w_12_round, 'um')\n",
    "\n",
    "id_m12c = id_m12\n",
    "id_w_m12c = lv_nmos.lookup('ID_W', GM_ID=gm_id_m12c, L=l_12c, VDS=vds_headroom, VSB=3*vds_headroom)\n",
    "w_12c = id_m12c / id_w_m12c\n",
    "w_12c_round = max(round(w_12c*2)/2, 0.5)\n",
    "print('M1/2c W =', w_12c, 'um, rounded W =', w_12c_round, 'um')\n",
    "\n",
    "id_m34 = id_m12\n",
    "id_w_m34 = lv_pmos.lookup('ID_W', GM_ID=gm_id_m34, L=l_34, VDS=vds_headroom, VSB=0)\n",
    "w_34 = id_m34 / id_w_m34\n",
    "w_34_round = max(round(w_34*2)/2, 0.5) \n",
    "print('M3/4  W =', w_34, 'um, rounded W =', w_34_round, 'um')\n",
    "\n",
    "id_m34c = id_m12\n",
    "id_w_m34c = lv_pmos.lookup('ID_W', GM_ID=gm_id_m34c, L=l_34c, VDS=vds_headroom, VSB=vds_headroom)\n",
    "w_34c = id_m34c / id_w_m34c\n",
    "w_34c_round = max(round(w_34c*2)/2, 0.5) \n",
    "print('M3/4c W =', w_34c, 'um, rounded W =', w_34c_round, 'um')\n",
    "\n",
    "id_w_m5 = lv_nmos.lookup('ID_W', GM_ID=gm_id_m56, L=l_56, VDS=vds_headroom, VSB=0)\n",
    "w_5 = i_total / id_w_m5\n",
    "w_5_round = max(round(w_5*2)/2, 0.5)\n",
    "print('M5    W =', w_5, 'um, rounded W =', w_5_round, 'um')\n",
    "\n",
    "id_w_m5c = lv_nmos.lookup('ID_W', GM_ID=gm_id_m56c, L=l_56c, VDS=vds_headroom, VSB=vds_headroom)\n",
    "w_5c = i_total / id_w_m5c\n",
    "w_5c_round = max(round(w_5c*2)/2, 0.5)\n",
    "print('M5c   W =', w_5c, 'um, rounded W =', w_5c_round, 'um')\n",
    "\n",
    "w_6 = w_5_round * i_bias_in / i_total\n",
    "print('M6    W =', w_6, 'um')\n",
    "\n",
    "w_6c = w_5c_round * i_bias_in / i_total\n",
    "print('M6c   W =', w_6c, 'um')\n"
   ]
  },
  {
   "cell_type": "code",
   "execution_count": 12,
   "metadata": {},
   "outputs": [
    {
     "name": "stdout",
     "output_type": "stream",
     "text": [
      "Improved OTA dimensioning:\n",
      "--------------------------\n",
      "M1/2  W= 1.0 , L= 0.5\n",
      "M1/2c W= 1.0 , L= 0.5\n",
      "M3/4  W= 3.5 , L= 0.5\n",
      "M3/4c W= 3.0 , L= 0.5\n",
      "M5   W= 3.0 , L= 1\n",
      "M5c  W= 3.0 , L= 1\n",
      "M6   W= 7.500000000000002 , L= 1\n",
      "M6c  W= 7.500000000000002 , L= 1\n",
      "\n",
      "Improved OTA performance summary:\n",
      "---------------------------------\n",
      "supply current = 8.0 µA\n",
      "output noise = 0.3084826103706843 µVrms\n",
      "voltage gain error = -0.6719920439173688 %\n",
      "-3dB bandwidth incl. parasitics = 81.14903707795307 MHz\n",
      "turn-on time (slewing+settling) = 0.018817533398364204 µs\n",
      "\n",
      "Improved OTA bias point check:\n",
      "------------------------------\n",
      "headroom M1+M1c = 0.5117812323744945 V\n",
      "headroom M4+M4c = 0.5499999999999999 V\n",
      "headroom M5+M5c = 0.26366489521518227 V\n"
     ]
    }
   ],
   "source": [
    "# Print out final design values\n",
    "print('Improved OTA dimensioning:')\n",
    "print('--------------------------')\n",
    "print('M1/2  W=', w_12_round, ', L=', l_12)\n",
    "print('M1/2c W=', w_12c_round, ', L=', l_12c)\n",
    "print('M3/4  W=', w_34_round, ', L=', l_34)\n",
    "print('M3/4c W=', w_34c_round, ', L=', l_34c)\n",
    "print('M5   W=', w_5_round, ', L=', l_56)\n",
    "print('M5c  W=', w_5c_round, ', L=', l_56c)\n",
    "print('M6   W=', w_6, ', L=', l_56)\n",
    "print('M6c  W=', w_6c, ', L=', l_56c)\n",
    "print()\n",
    "print('Improved OTA performance summary:')\n",
    "print('---------------------------------')\n",
    "print('supply current =', i_total/1e-6, 'µA')\n",
    "print('output noise =', output_noise_rms/1e-6, 'µVrms')\n",
    "print('voltage gain error =', (gain_error-1)*100, '%')\n",
    "print('-3dB bandwidth incl. parasitics =', f_bw/1e6, 'MHz')\n",
    "print('turn-on time (slewing+settling) =', (t_slew+t_settle)/1e-6, 'µs')\n",
    "print()\n",
    "print('Improved OTA bias point check:')\n",
    "print('------------------------------')\n",
    "print('headroom M1+M1c =', vdd_min-vgs_m34+vgs_m12-vin_max, 'V')\n",
    "print('headroom M4+M4c =', vdd_min-vin_max, 'V')\n",
    "print('headroom M5+M5c =', vin_min-vgs_m12, 'V')"
   ]
  }
 ],
 "metadata": {
  "kernelspec": {
   "display_name": "Python 3 (ipykernel)",
   "language": "python",
   "name": "python3"
  },
  "language_info": {
   "codemirror_mode": {
    "name": "ipython",
    "version": 3
   },
   "file_extension": ".py",
   "mimetype": "text/x-python",
   "name": "python",
   "nbconvert_exporter": "python",
   "pygments_lexer": "ipython3",
   "version": "3.12.5"
  }
 },
 "nbformat": 4,
 "nbformat_minor": 2
}
