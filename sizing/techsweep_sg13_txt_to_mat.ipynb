{
 "cells": [
  {
   "cell_type": "markdown",
   "metadata": {},
   "source": [
    "# Conversion of TXT to MAT for gm/ID result files for SG13G2\n",
    "\n",
    "**(c) 2024 Boris Murmann and Harald Pretl**\n",
    "\n",
    "Licensed under the Apache License, Version 2.0 (the \"License\");\n",
    "you may not use this file except in compliance with the License.\n",
    "You may obtain a copy of the License at\n",
    "http://www.apache.org/licenses/LICENSE-2.0"
   ]
  },
  {
   "cell_type": "code",
   "execution_count": 1,
   "metadata": {},
   "outputs": [],
   "source": [
    "import pandas as pd\n",
    "import numpy as np\n",
    "from numpy.core.records import fromarrays\n",
    "from scipy.io import savemat"
   ]
  },
  {
   "cell_type": "code",
   "execution_count": 2,
   "metadata": {},
   "outputs": [],
   "source": [
    "choice = 0  #start from 0\n",
    "devices = ['sg13_lv_nmos', 'sg13_lv_pmos']\n",
    "\n",
    "# widths used for characterization and fringe cap parameters (fringe caps are not included in ngspice output)\n",
    "w = np.array([5, 5])\n",
    "nfing = np.array([1, 1])"
   ]
  },
  {
   "cell_type": "code",
   "execution_count": 3,
   "metadata": {},
   "outputs": [],
   "source": [
    "df_raw = pd.read_csv('techsweep_'+devices[choice]+'.txt', sep=r'\\s+')\n",
    "par_names = df_raw.columns.to_list()\n",
    "par_prefix = par_names[1].split('[')[0]"
   ]
  },
  {
   "cell_type": "code",
   "execution_count": 4,
   "metadata": {},
   "outputs": [
    {
     "data": {
      "text/plain": "                 cdd           cgb           cgd         cgdol           cgg  \\\n0       6.818000e-21  4.501000e-16  1.732000e-19  3.025000e-15  4.504000e-16   \n1       1.367000e-21  3.647000e-16  6.294000e-20  3.025000e-15  3.648000e-16   \n2       3.731000e-22  3.156000e-16  3.074000e-20  3.025000e-15  3.157000e-16   \n3       1.222000e-22  2.827000e-16  1.767000e-20  3.025000e-15  2.827000e-16   \n4       2.974000e-21  4.501000e-16 -2.534000e-19  3.018000e-15  4.504000e-16   \n...              ...           ...           ...           ...           ...   \n119067  8.308000e-16  1.355000e-14  1.016000e-15  3.032000e-15  4.518000e-13   \n119068  1.033000e-15  1.514000e-14  1.240000e-15  3.025000e-15  4.575000e-13   \n119069  9.320000e-16  1.471000e-14  1.128000e-15  3.025000e-15  4.552000e-13   \n119070  8.504000e-16  1.413000e-14  1.035000e-15  3.025000e-15  4.533000e-13   \n119071  7.841000e-16  1.356000e-14  9.578000e-16  3.025000e-15  4.517000e-13   \n\n                 cgs         cgsol           cjd           cjs           css  \\\n0       1.732000e-19  3.025000e-15  1.998000e-15  1.998000e-15  6.818000e-21   \n1       6.294000e-20  3.025000e-15  1.727000e-15  1.727000e-15  1.367000e-21   \n2       3.074000e-20  3.025000e-15  1.565000e-15  1.565000e-15  3.731000e-22   \n3       1.767000e-20  3.025000e-15  1.453000e-15  1.453000e-15  1.222000e-22   \n4       5.849000e-19  3.025000e-15  1.975000e-15  1.998000e-15  6.916000e-21   \n...              ...           ...           ...           ...           ...   \n119067  4.372000e-13  3.235000e-15  1.211000e-15  1.453000e-15  2.724000e-13   \n119068  4.411000e-13  3.235000e-15  1.387000e-15  1.998000e-15  2.808000e-13   \n119069  4.394000e-13  3.235000e-15  1.316000e-15  1.727000e-15  2.771000e-13   \n119070  4.382000e-13  3.235000e-15  1.257000e-15  1.565000e-15  2.744000e-13   \n119071  4.372000e-13  3.235000e-15  1.208000e-15  1.453000e-15  2.724000e-13   \n\n        ...           ids      l       rg           sfl           sid    vds  \\\n0       ...  0.000000e+00   0.13  20.0400  0.000000e+00  2.834000e-29  0.000   \n1       ...  0.000000e+00   0.13  20.0400  0.000000e+00  5.621000e-30  0.000   \n2       ...  0.000000e+00   0.13  20.0400  0.000000e+00  1.519000e-30  0.000   \n3       ...  0.000000e+00   0.13  20.0400  0.000000e+00  4.927000e-31  0.000   \n4       ...  2.946000e-11   0.13  20.0400  1.046000e-28  2.090000e-29  0.025   \n...     ...           ...    ...      ...           ...           ...    ...   \n119067  ...  1.135000e-04  10.00   0.2605  2.918000e-19  2.417000e-24  1.475   \n119068  ...  1.360000e-04  10.00   0.2605  3.562000e-19  2.708000e-24  1.500   \n119069  ...  1.274000e-04  10.00   0.2605  3.321000e-19  2.595000e-24  1.500   \n119070  ...  1.200000e-04  10.00   0.2605  3.109000e-19  2.501000e-24  1.500   \n119071  ...  1.135000e-04  10.00   0.2605  2.920000e-19  2.418000e-24  1.500   \n\n          vdss  vgs  vsb     vth  \n0       0.1245  0.0  0.0  0.4360  \n1       0.1245 -0.0  0.4  0.4746  \n2       0.1245 -0.0  0.8  0.5078  \n3       0.1245 -0.0  1.2  0.5375  \n4       0.1245  0.0  0.0  0.4360  \n...        ...  ...  ...     ...  \n119067  0.9454  1.5  1.2  0.2935  \n119068  1.0030  1.5  0.0  0.1808  \n119069  0.9838  1.5  0.4  0.2238  \n119070  0.9644  1.5  0.8  0.2607  \n119071  0.9454  1.5  1.2  0.2935  \n\n[119072 rows x 24 columns]",
      "text/html": "<div>\n<style scoped>\n    .dataframe tbody tr th:only-of-type {\n        vertical-align: middle;\n    }\n\n    .dataframe tbody tr th {\n        vertical-align: top;\n    }\n\n    .dataframe thead th {\n        text-align: right;\n    }\n</style>\n<table border=\"1\" class=\"dataframe\">\n  <thead>\n    <tr style=\"text-align: right;\">\n      <th></th>\n      <th>cdd</th>\n      <th>cgb</th>\n      <th>cgd</th>\n      <th>cgdol</th>\n      <th>cgg</th>\n      <th>cgs</th>\n      <th>cgsol</th>\n      <th>cjd</th>\n      <th>cjs</th>\n      <th>css</th>\n      <th>...</th>\n      <th>ids</th>\n      <th>l</th>\n      <th>rg</th>\n      <th>sfl</th>\n      <th>sid</th>\n      <th>vds</th>\n      <th>vdss</th>\n      <th>vgs</th>\n      <th>vsb</th>\n      <th>vth</th>\n    </tr>\n  </thead>\n  <tbody>\n    <tr>\n      <th>0</th>\n      <td>6.818000e-21</td>\n      <td>4.501000e-16</td>\n      <td>1.732000e-19</td>\n      <td>3.025000e-15</td>\n      <td>4.504000e-16</td>\n      <td>1.732000e-19</td>\n      <td>3.025000e-15</td>\n      <td>1.998000e-15</td>\n      <td>1.998000e-15</td>\n      <td>6.818000e-21</td>\n      <td>...</td>\n      <td>0.000000e+00</td>\n      <td>0.13</td>\n      <td>20.0400</td>\n      <td>0.000000e+00</td>\n      <td>2.834000e-29</td>\n      <td>0.000</td>\n      <td>0.1245</td>\n      <td>0.0</td>\n      <td>0.0</td>\n      <td>0.4360</td>\n    </tr>\n    <tr>\n      <th>1</th>\n      <td>1.367000e-21</td>\n      <td>3.647000e-16</td>\n      <td>6.294000e-20</td>\n      <td>3.025000e-15</td>\n      <td>3.648000e-16</td>\n      <td>6.294000e-20</td>\n      <td>3.025000e-15</td>\n      <td>1.727000e-15</td>\n      <td>1.727000e-15</td>\n      <td>1.367000e-21</td>\n      <td>...</td>\n      <td>0.000000e+00</td>\n      <td>0.13</td>\n      <td>20.0400</td>\n      <td>0.000000e+00</td>\n      <td>5.621000e-30</td>\n      <td>0.000</td>\n      <td>0.1245</td>\n      <td>-0.0</td>\n      <td>0.4</td>\n      <td>0.4746</td>\n    </tr>\n    <tr>\n      <th>2</th>\n      <td>3.731000e-22</td>\n      <td>3.156000e-16</td>\n      <td>3.074000e-20</td>\n      <td>3.025000e-15</td>\n      <td>3.157000e-16</td>\n      <td>3.074000e-20</td>\n      <td>3.025000e-15</td>\n      <td>1.565000e-15</td>\n      <td>1.565000e-15</td>\n      <td>3.731000e-22</td>\n      <td>...</td>\n      <td>0.000000e+00</td>\n      <td>0.13</td>\n      <td>20.0400</td>\n      <td>0.000000e+00</td>\n      <td>1.519000e-30</td>\n      <td>0.000</td>\n      <td>0.1245</td>\n      <td>-0.0</td>\n      <td>0.8</td>\n      <td>0.5078</td>\n    </tr>\n    <tr>\n      <th>3</th>\n      <td>1.222000e-22</td>\n      <td>2.827000e-16</td>\n      <td>1.767000e-20</td>\n      <td>3.025000e-15</td>\n      <td>2.827000e-16</td>\n      <td>1.767000e-20</td>\n      <td>3.025000e-15</td>\n      <td>1.453000e-15</td>\n      <td>1.453000e-15</td>\n      <td>1.222000e-22</td>\n      <td>...</td>\n      <td>0.000000e+00</td>\n      <td>0.13</td>\n      <td>20.0400</td>\n      <td>0.000000e+00</td>\n      <td>4.927000e-31</td>\n      <td>0.000</td>\n      <td>0.1245</td>\n      <td>-0.0</td>\n      <td>1.2</td>\n      <td>0.5375</td>\n    </tr>\n    <tr>\n      <th>4</th>\n      <td>2.974000e-21</td>\n      <td>4.501000e-16</td>\n      <td>-2.534000e-19</td>\n      <td>3.018000e-15</td>\n      <td>4.504000e-16</td>\n      <td>5.849000e-19</td>\n      <td>3.025000e-15</td>\n      <td>1.975000e-15</td>\n      <td>1.998000e-15</td>\n      <td>6.916000e-21</td>\n      <td>...</td>\n      <td>2.946000e-11</td>\n      <td>0.13</td>\n      <td>20.0400</td>\n      <td>1.046000e-28</td>\n      <td>2.090000e-29</td>\n      <td>0.025</td>\n      <td>0.1245</td>\n      <td>0.0</td>\n      <td>0.0</td>\n      <td>0.4360</td>\n    </tr>\n    <tr>\n      <th>...</th>\n      <td>...</td>\n      <td>...</td>\n      <td>...</td>\n      <td>...</td>\n      <td>...</td>\n      <td>...</td>\n      <td>...</td>\n      <td>...</td>\n      <td>...</td>\n      <td>...</td>\n      <td>...</td>\n      <td>...</td>\n      <td>...</td>\n      <td>...</td>\n      <td>...</td>\n      <td>...</td>\n      <td>...</td>\n      <td>...</td>\n      <td>...</td>\n      <td>...</td>\n      <td>...</td>\n    </tr>\n    <tr>\n      <th>119067</th>\n      <td>8.308000e-16</td>\n      <td>1.355000e-14</td>\n      <td>1.016000e-15</td>\n      <td>3.032000e-15</td>\n      <td>4.518000e-13</td>\n      <td>4.372000e-13</td>\n      <td>3.235000e-15</td>\n      <td>1.211000e-15</td>\n      <td>1.453000e-15</td>\n      <td>2.724000e-13</td>\n      <td>...</td>\n      <td>1.135000e-04</td>\n      <td>10.00</td>\n      <td>0.2605</td>\n      <td>2.918000e-19</td>\n      <td>2.417000e-24</td>\n      <td>1.475</td>\n      <td>0.9454</td>\n      <td>1.5</td>\n      <td>1.2</td>\n      <td>0.2935</td>\n    </tr>\n    <tr>\n      <th>119068</th>\n      <td>1.033000e-15</td>\n      <td>1.514000e-14</td>\n      <td>1.240000e-15</td>\n      <td>3.025000e-15</td>\n      <td>4.575000e-13</td>\n      <td>4.411000e-13</td>\n      <td>3.235000e-15</td>\n      <td>1.387000e-15</td>\n      <td>1.998000e-15</td>\n      <td>2.808000e-13</td>\n      <td>...</td>\n      <td>1.360000e-04</td>\n      <td>10.00</td>\n      <td>0.2605</td>\n      <td>3.562000e-19</td>\n      <td>2.708000e-24</td>\n      <td>1.500</td>\n      <td>1.0030</td>\n      <td>1.5</td>\n      <td>0.0</td>\n      <td>0.1808</td>\n    </tr>\n    <tr>\n      <th>119069</th>\n      <td>9.320000e-16</td>\n      <td>1.471000e-14</td>\n      <td>1.128000e-15</td>\n      <td>3.025000e-15</td>\n      <td>4.552000e-13</td>\n      <td>4.394000e-13</td>\n      <td>3.235000e-15</td>\n      <td>1.316000e-15</td>\n      <td>1.727000e-15</td>\n      <td>2.771000e-13</td>\n      <td>...</td>\n      <td>1.274000e-04</td>\n      <td>10.00</td>\n      <td>0.2605</td>\n      <td>3.321000e-19</td>\n      <td>2.595000e-24</td>\n      <td>1.500</td>\n      <td>0.9838</td>\n      <td>1.5</td>\n      <td>0.4</td>\n      <td>0.2238</td>\n    </tr>\n    <tr>\n      <th>119070</th>\n      <td>8.504000e-16</td>\n      <td>1.413000e-14</td>\n      <td>1.035000e-15</td>\n      <td>3.025000e-15</td>\n      <td>4.533000e-13</td>\n      <td>4.382000e-13</td>\n      <td>3.235000e-15</td>\n      <td>1.257000e-15</td>\n      <td>1.565000e-15</td>\n      <td>2.744000e-13</td>\n      <td>...</td>\n      <td>1.200000e-04</td>\n      <td>10.00</td>\n      <td>0.2605</td>\n      <td>3.109000e-19</td>\n      <td>2.501000e-24</td>\n      <td>1.500</td>\n      <td>0.9644</td>\n      <td>1.5</td>\n      <td>0.8</td>\n      <td>0.2607</td>\n    </tr>\n    <tr>\n      <th>119071</th>\n      <td>7.841000e-16</td>\n      <td>1.356000e-14</td>\n      <td>9.578000e-16</td>\n      <td>3.025000e-15</td>\n      <td>4.517000e-13</td>\n      <td>4.372000e-13</td>\n      <td>3.235000e-15</td>\n      <td>1.208000e-15</td>\n      <td>1.453000e-15</td>\n      <td>2.724000e-13</td>\n      <td>...</td>\n      <td>1.135000e-04</td>\n      <td>10.00</td>\n      <td>0.2605</td>\n      <td>2.920000e-19</td>\n      <td>2.418000e-24</td>\n      <td>1.500</td>\n      <td>0.9454</td>\n      <td>1.5</td>\n      <td>1.2</td>\n      <td>0.2935</td>\n    </tr>\n  </tbody>\n</table>\n<p>119072 rows × 24 columns</p>\n</div>"
     },
     "execution_count": 4,
     "metadata": {},
     "output_type": "execute_result"
    }
   ],
   "source": [
    "# remove extra headers in file body and unwanted columns\n",
    "df = df_raw.drop(['frequency', 'frequency.1'], axis=1)\n",
    "df = df.apply(pd.to_numeric)\n",
    "\n",
    "# rename columns for readability\n",
    "df.columns = df.columns.str.removeprefix(par_prefix+'[')\n",
    "df.columns = df.columns.str.replace(par_prefix[1:], '')\n",
    "df.columns = df.columns.str.removesuffix(']')\n",
    "\n",
    "# round sweep vectors to easily addressable values\n",
    "df['l'] = df['l'].apply(lambda x: round(x*1e6, 3))\n",
    "df['vgs'] = df['vgs'].apply(lambda x: round(x, 3))\n",
    "df['vds'] = df['vds'].apply(lambda x: round(x, 3))\n",
    "df['vsb'] = df['vsb'].apply(lambda x: round(x, 3))\n",
    "df"
   ]
  },
  {
   "cell_type": "code",
   "execution_count": 5,
   "metadata": {},
   "outputs": [],
   "source": [
    "# sweep variable vectors\n",
    "l = np.unique(abs(df['l']))\n",
    "vgs = np.unique(abs(df['vgs']))\n",
    "vds = np.unique(abs(df['vds']))\n",
    "vsb = np.unique(abs(df['vsb']))"
   ]
  },
  {
   "cell_type": "code",
   "execution_count": 6,
   "metadata": {},
   "outputs": [],
   "source": [
    "# data\n",
    "# ngspice sweep order is l, vgs, vds, vsb\n",
    "dims = [len(l), len(vgs), len(vds), len(vsb)]\n",
    "id = np.reshape(df['ids'].values, dims, order='C')\n",
    "vt = np.reshape(df['vth'].values, dims, order='C')\n",
    "gm = np.reshape(df['gm'].values, dims, order='C')\n",
    "gmb = np.reshape(df['gmb'].values, dims, order='C')\n",
    "gds = np.reshape(df['gds'].values, dims, order='C')\n",
    "cgsol = np.reshape(df['cgsol'].values, dims, order='C')\n",
    "cgg = np.reshape(df['cgg'].values, dims, order='C') \\\n",
    "      + np.reshape(df['cgdol'].values, dims, order='C') \\\n",
    "      + np.reshape(df['cgsol'].values, dims, order='C')\n",
    "cgb = -np.reshape(df['cgb'].values, dims, order='C')\n",
    "cgd = -np.reshape(df['cgd'].values, dims, order='C') \\\n",
    "      + np.reshape(df['cgdol'].values, dims, order='C')\n",
    "cgs = -np.reshape(df['cgs'].values, dims, order='C') \\\n",
    "      + np.reshape(df['cgsol'].values, dims, order='C')\n",
    "cdd = np.reshape(df['cdd'].values, dims, order='C') \\\n",
    "      + np.reshape(df['cjd'].values, dims, order='C') \\\n",
    "      + np.reshape(df['cgdol'].values, dims, order='C')\n",
    "css = np.reshape(df['css'].values, dims, order='C') \\\n",
    "      + np.reshape(df['cjs'].values, dims, order='C') \\\n",
    "      + np.reshape(df['cgsol'].values, dims, order='C')\n",
    "sth = np.sqrt(np.reshape(df['sid'].values, dims, order='C'))\n",
    "sfl = np.sqrt(np.reshape(df['sfl'].values, dims, order='C'))"
   ]
  },
  {
   "cell_type": "code",
   "execution_count": 7,
   "metadata": {},
   "outputs": [],
   "source": [
    "dic = {\n",
    "  \"INFO\": \"IHP SG13G2, 130nm CMOS, PSP\",\n",
    "  \"CORNER\": \"NOM\",\n",
    "  \"TEMP\": 300.0,\n",
    "  \"VGS\": vgs,\n",
    "  \"VDS\": vds,\n",
    "  \"VSB\": vsb,\n",
    "  \"L\": l,\n",
    "  \"W\": w[choice],\n",
    "  \"NFING\": nfing[choice],\n",
    "  \"ID\": id,\n",
    "  \"VT\": vt,\n",
    "  \"GM\": gm,\n",
    "  \"GMB\": gmb,\n",
    "  \"GDS\": gds,\n",
    "  \"CGG\": cgg,\n",
    "  \"CGB\": cgb,\n",
    "  \"CGD\": cgd,\n",
    "  \"CGS\": cgs,\n",
    "  \"CDD\": cdd,\n",
    "  \"CSS\": css,\n",
    "  \"STH\": sth,\n",
    "  \"SFL\": sfl\n",
    "}\n",
    "\n",
    "savemat(devices[choice]+'.mat', {devices[choice]: dic})"
   ]
  }
 ],
 "metadata": {
  "kernelspec": {
   "display_name": "Python 3",
   "language": "python",
   "name": "python3"
  },
  "language_info": {
   "codemirror_mode": {
    "name": "ipython",
    "version": 3
   },
   "file_extension": ".py",
   "mimetype": "text/x-python",
   "name": "python",
   "nbconvert_exporter": "python",
   "pygments_lexer": "ipython3",
   "version": "3.12.4"
  }
 },
 "nbformat": 4,
 "nbformat_minor": 2
}
