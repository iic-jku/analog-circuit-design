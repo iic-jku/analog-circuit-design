{
 "cells": [
  {
   "cell_type": "markdown",
   "metadata": {},
   "source": [
    "# MOSFET gm/ID Lookup for IHP SG13G2"
   ],
   "id": "587f92a1-56e1-417c-8201-9891ad691ab5"
  },
  {
   "cell_type": "markdown",
   "metadata": {},
   "source": [
    "**Copyright 2024 Boris Murmann and Harald Pretl**\n",
    "\n",
    "Licensed under the Apache License, Version 2.0 (the “License”); you may not use this file except in compliance with the License. You may obtain a copy of the License at http://www.apache.org/licenses/LICENSE-2.0\n",
    "\n",
    "*Important note: Numpy version 1.x.x is required; an error is thrown for Numpy 2.x.x*"
   ],
   "id": "cell-1"
  },
  {
   "cell_type": "code",
   "execution_count": 24,
   "metadata": {},
   "outputs": [],
   "source": [
    "from pygmid import Lookup as lk\n",
    "import numpy as np\n",
    "lv_nmos = lk('sg13_lv_nmos.mat')\n",
    "lv_pmos = lk('sg13_lv_pmos.mat')"
   ],
   "id": "cell-2"
  },
  {
   "cell_type": "code",
   "execution_count": 25,
   "metadata": {},
   "outputs": [
    {
     "output_type": "stream",
     "name": "stdout",
     "text": [
      "0.003581\n",
      "0.0008946"
     ]
    }
   ],
   "source": [
    "# Lookup a specific value\n",
    "# List of parameters: VGS, VDS, VSB, L, W, NFING, ID, VT, GM, GMB, GDS, CGG, CGB, CGD, CGS, CDD, CSS\n",
    "gm = lv_nmos.lookup('GM', L=0.13, VGS=0.9, VDS=0.75, VSB=0)\n",
    "print(gm)\n",
    "id = lv_nmos.lookup('ID', L=0.13, VGS=0.9, VDS=0.75, VSB=0)\n",
    "print(id)"
   ],
   "id": "cell-3"
  },
  {
   "cell_type": "code",
   "execution_count": 26,
   "metadata": {},
   "outputs": [
    {
     "output_type": "stream",
     "name": "stdout",
     "text": [
      "0.003581"
     ]
    }
   ],
   "source": [
    "# Query below uses minimum L, VDS=max(vgs)/2=0.9 and VSB=0 as defaults since they not specified\n",
    "gm = lv_nmos.lookup('GM', VGS=0.9)\n",
    "print(gm)"
   ],
   "id": "cell-4"
  },
  {
   "cell_type": "code",
   "execution_count": 27,
   "metadata": {},
   "outputs": [
    {
     "output_type": "stream",
     "name": "stdout",
     "text": [
      "9.931352853533765"
     ]
    }
   ],
   "source": [
    "# Similar to above, but now we are looking up a ratio against another ratio\n",
    "gm_cgg = lv_nmos.lookup('GM_CGG', GM_ID=15)\n",
    "print(gm_cgg/2/np.pi / 1e9)"
   ],
   "id": "cell-5"
  }
 ],
 "nbformat": 4,
 "nbformat_minor": 5,
 "metadata": {}
}
