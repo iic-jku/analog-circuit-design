{
 "cells": [
  {
   "cell_type": "markdown",
   "metadata": {},
   "source": [
    "# Sizing for Basic 5T-OTA {.unnumbered .unlisted}\n",
    "\n",
    "**Copyright 2024 Harald Pretl**\n",
    "\n",
    "Licensed under the Apache License, Version 2.0 (the \"License\");\n",
    "you may not use this file except in compliance with the License.\n",
    "You may obtain a copy of the License at\n",
    "http://www.apache.org/licenses/LICENSE-2.0"
   ]
  },
  {
   "cell_type": "code",
   "execution_count": 1,
   "metadata": {},
   "outputs": [],
   "source": [
    "# Read table data\n",
    "from pygmid import Lookup as lk\n",
    "import numpy as np\n",
    "lv_nmos = lk('sg13_lv_nmos.mat')\n",
    "lv_pmos = lk('sg13_lv_pmos.mat')\n",
    "# List of parameters: VGS, VDS, VSB, L, W, NFING, ID, VT, GM, GMB, GDS, CGG, CGB, CGD, CGS, CDD, CSS, STH, SFL\n",
    "# If not specified, minimum L, VDS=max(vgs)/2=0.9 and VSB=0 are used "
   ]
  },
  {
   "cell_type": "code",
   "execution_count": 2,
   "metadata": {},
   "outputs": [],
   "source": [
    "# Define the given parameters as taken from the specification table or inital guesses\n",
    "c_load = 50e-15\n",
    "gm_id_m12 = 10\n",
    "gm_id_m34 = 5\n",
    "gm_id_m56 = 5\n",
    "l_12 = 5\n",
    "l_34 = 5\n",
    "l_56 = 5\n",
    "f_bw = 10e6\n",
    "i_total_limit = 10e-6\n",
    "i_bias_in = 20e-6\n",
    "output_voltage = 1.3\n",
    "vin_min = 0.7\n",
    "vin_max = 0.9\n",
    "vdd_min = 1.45\n",
    "vdd_max = 1.55"
   ]
  },
  {
   "cell_type": "code",
   "execution_count": 3,
   "metadata": {},
   "outputs": [
    {
     "name": "stdout",
     "output_type": "stream",
     "text": [
      "gm12 = 0.01884955592153876 mS\n"
     ]
    }
   ],
   "source": [
    "# We get the required gm of M1/2 from the bandwidth requirement\n",
    "# We add a factor of 3 to allow for PVT variation plus additional MOSFET parasitic loading\n",
    "gm_m12 = f_bw * 3 * 4*np.pi*c_load\n",
    "print('gm12 =', gm_m12/1e-3, 'mS')"
   ]
  },
  {
   "cell_type": "code",
   "execution_count": 4,
   "metadata": {},
   "outputs": [
    {
     "name": "stdout",
     "output_type": "stream",
     "text": [
      "i_total (exact) = 3.7699111843077517 µA\n",
      "i_total (rounded) = 4.0 µA\n",
      "[info] power consumption target is met!\n"
     ]
    }
   ],
   "source": [
    "# Since we know gm12 and the gmid we can calculate the bias current\n",
    "id_m12 = gm_m12 / gm_id_m12\n",
    "i_total = 2*id_m12\n",
    "print('i_total (exact) =', i_total/1e-6, 'µA')\n",
    "# we round to 0.5µA bias currents\n",
    "i_total = max(round(i_total / 1e-6 * 2) / 2 * 1e-6, 0.5e-6)\n",
    "id_m12 = i_total/2\n",
    "\n",
    "print('i_total (rounded) =', i_total/1e-6, 'µA')\n",
    "if i_total < i_total_limit:\n",
    "    print('[info] power consumption target is met!')\n",
    "else:\n",
    "    print('[info] power consumption target is NOT met!') "
   ]
  },
  {
   "cell_type": "code",
   "execution_count": 5,
   "metadata": {},
   "outputs": [
    {
     "name": "stdout",
     "output_type": "stream",
     "text": [
      "a0 = 34.78458740352468 dB\n"
     ]
    }
   ],
   "source": [
    "# We calculate the dc gain\n",
    "gm_gds_m12 = lv_nmos.lookup('GM_GDS', GM_ID=gm_id_m12, L=l_12, VDS=0.75, VSB=0)\n",
    "gm_gds_m34 = lv_pmos.lookup('GM_GDS', GM_ID=gm_id_m34, L=l_34, VDS=0.75, VSB=0)\n",
    "\n",
    "gds_m12 = gm_m12 / gm_gds_m12\n",
    "gm_m34 = gm_id_m34 * i_total/2\n",
    "gds_m34 = gm_m34 / gm_gds_m34\n",
    "\n",
    "a0 = gm_m12 / (gds_m12 + gds_m34)\n",
    "print('a0 =', 20*np.log10(a0), 'dB')"
   ]
  },
  {
   "cell_type": "code",
   "execution_count": 6,
   "metadata": {},
   "outputs": [
    {
     "name": "stdout",
     "output_type": "stream",
     "text": [
      "additional load capacitance = 54.92854674560976 fF\n",
      "-3dB bandwidth incl. parasitics = 14.295442437000684 MHz\n"
     ]
    }
   ],
   "source": [
    "# We calculate the MOSFET capacitance which adds to Cload, to see the impact on the BW\n",
    "gm_cgs_m12 = lv_nmos.lookup('GM_CGS', GM_ID=gm_id_m12, L=l_12, VDS=0.75, VSB=0)\n",
    "gm_cdd_m12 = lv_nmos.lookup('GM_CDD', GM_ID=gm_id_m12, L=l_12, VDS=0.75, VSB=0)\n",
    "gm_cdd_m34 = lv_pmos.lookup('GM_CDD', GM_ID=gm_id_m34, L=l_34, VDS=0.75, VSB=0)\n",
    "\n",
    "c_load_parasitic = abs(gm_m12/gm_cgs_m12) + abs(gm_m12/gm_cdd_m12) + abs(gm_m34/gm_cdd_m34)\n",
    "print('additional load capacitance =', c_load_parasitic/1e-15, 'fF')\n",
    "\n",
    "f_bw = gm_m12 / (4*np.pi * (c_load + c_load_parasitic))\n",
    "print('-3dB bandwidth incl. parasitics =', f_bw/1e6, 'MHz')"
   ]
  },
  {
   "cell_type": "code",
   "execution_count": 7,
   "metadata": {},
   "outputs": [
    {
     "name": "stdout",
     "output_type": "stream",
     "text": [
      "vgs_12 = 0.36710119710062455 V\n",
      "vgs_34 = 0.7287454603526495 V\n",
      "vgs_56 = 0.5912200307058603 V\n"
     ]
    }
   ],
   "source": [
    "# We can now look up the VGS of the MOSFET\n",
    "vgs_m12 = lv_nmos.look_upVGS(GM_ID=gm_id_m12, L=l_12, VDS=0.75, VSB=0.0)\n",
    "vgs_m34 = lv_pmos.look_upVGS(GM_ID=gm_id_m34, L=l_34, VDS=0.75, VSB=0.0) \n",
    "vgs_m56 = lv_nmos.look_upVGS(GM_ID=gm_id_m56, L=l_56, VDS=0.75, VSB=0.0) \n",
    "\n",
    "print('vgs_12 =', vgs_m12, 'V')\n",
    "print('vgs_34 =', vgs_m34, 'V')\n",
    "print('vgs_56 =', vgs_m56, 'V')"
   ]
  },
  {
   "cell_type": "code",
   "execution_count": 8,
   "metadata": {},
   "outputs": [
    {
     "name": "stdout",
     "output_type": "stream",
     "text": [
      "slewing time = 0.034101777692323185 µs\n",
      "settling time = 0.055666322953376014 µs\n"
     ]
    }
   ],
   "source": [
    "# Calculate settling time due to slewing with the calculated bias current\n",
    "t_slew = (c_load + c_load_parasitic) * output_voltage / i_total\n",
    "print('slewing time =', t_slew/1e-6, 'µs')\n",
    "t_settle = 5/(2*np.pi*f_bw)\n",
    "print('settling time =', t_settle/1e-6, 'µs')"
   ]
  },
  {
   "cell_type": "code",
   "execution_count": 9,
   "metadata": {},
   "outputs": [
    {
     "name": "stdout",
     "output_type": "stream",
     "text": [
      "voltage gain error = -1.7902967715882068 %\n"
     ]
    }
   ],
   "source": [
    "# Calculate voltage gain error\n",
    "gain_error = a0 / (1 + a0)\n",
    "print('voltage gain error =', (gain_error-1)*100, '%')"
   ]
  },
  {
   "cell_type": "code",
   "execution_count": 10,
   "metadata": {},
   "outputs": [
    {
     "name": "stdout",
     "output_type": "stream",
     "text": [
      "output noise (rms) = 0.12543377043178017 µV\n"
     ]
    }
   ],
   "source": [
    "# Calculate total rms output noise\n",
    "sth_m12 = lv_nmos.lookup('STH_GM', VGS=vgs_m12, L=l_12, VDS=0.75, VSB=0) * gm_m12\n",
    "gamma_m12 = sth_m12/(4*1.38e-23*300*gm_m12)\n",
    "\n",
    "sth_m34 = lv_pmos.lookup('STH_GM', VGS=vgs_m34, L=l_34, VDS=0.75, VSB=0) * gm_m34\n",
    "gamma_m34 = sth_m34/(4*1.38e-23*300*gm_m34)\n",
    "\n",
    "output_noise_rms = 1.38e-23*300 / (c_load + c_load_parasitic) * (2*gamma_m12 + 2*gamma_m34 * gm_m34/gm_m12)\n",
    "print('output noise (rms) =', output_noise_rms/1e-6, 'µV')"
   ]
  },
  {
   "cell_type": "code",
   "execution_count": 11,
   "metadata": {},
   "outputs": [
    {
     "name": "stdout",
     "output_type": "stream",
     "text": [
      "M1/2 W = 1.7713641972645868 um, rounded W = 2.0 um\n",
      "M3/4 W = 1.641014110777885 um, rounded W = 1.5 um\n",
      "M5 W = 0.7351148286825442 um, rounded W = 0.5 um\n",
      "M6 W = 2.5000000000000004 um\n"
     ]
    }
   ],
   "source": [
    "# Calculate all widths\n",
    "id_w_m12 = lv_nmos.lookup('ID_W', GM_ID=gm_id_m12, L=l_12, VDS=vgs_m12, VSB=0)\n",
    "w_12 = id_m12 / id_w_m12\n",
    "w_12_round = max(round(w_12*2)/2, 0.5)\n",
    "print('M1/2 W =', w_12, 'um, rounded W =', w_12_round, 'um')\n",
    "\n",
    "id_m34 = id_m12\n",
    "id_w_m34 = lv_pmos.lookup('ID_W', GM_ID=gm_id_m34, L=l_34, VDS=vgs_m34, VSB=0)\n",
    "w_34 = id_m34 / id_w_m34\n",
    "w_34_round = max(round(w_34*2)/2, 0.5) \n",
    "print('M3/4 W =', w_34, 'um, rounded W =', w_34_round, 'um')\n",
    "\n",
    "id_w_m5 = lv_nmos.lookup('ID_W', GM_ID=gm_id_m56, L=l_56, VDS=vgs_m56, VSB=0)\n",
    "w_5 = i_total / id_w_m5\n",
    "w_5_round = max(round(w_5*2)/2, 0.5)\n",
    "print('M5 W =', w_5, 'um, rounded W =', w_5_round, 'um')\n",
    "w_6 = w_5_round * i_bias_in / i_total\n",
    "print('M6 W =', w_6, 'um')"
   ]
  },
  {
   "cell_type": "code",
   "execution_count": 12,
   "metadata": {},
   "outputs": [
    {
     "name": "stdout",
     "output_type": "stream",
     "text": [
      "5T-OTA dimensioning:\n",
      "--------------------\n",
      "M1/2 W= 2.0 , L= 5\n",
      "M3/4 W= 1.5 , L= 5\n",
      "M5   W= 0.5 , L= 5\n",
      "M6   W= 2.5000000000000004 , L= 5\n",
      "\n",
      "5T-OTA performance summary:\n",
      "---------------------------\n",
      "supply current = 4.0 µA\n",
      "output noise = 0.12543377043178017 µVrms\n",
      "voltage gain error = -1.7902967715882068 %\n",
      "-3dB bandwidth incl. parasitics = 14.295442437000684 MHz\n",
      "turn-on time (slewing+settling) = 0.08976810064569919 µs\n",
      "\n",
      "5T-OTA bias point check:\n",
      "------------------------\n",
      "headroom M1 = 0.188355736747975 V\n",
      "headroom M4 = 0.5499999999999999 V\n",
      "headroom M5 = 0.3328988028993754 V\n"
     ]
    }
   ],
   "source": [
    "# Print out final design values\n",
    "print('5T-OTA dimensioning:')\n",
    "print('--------------------')\n",
    "print('M1/2 W=', w_12_round, ', L=', l_12)\n",
    "print('M3/4 W=', w_34_round, ', L=', l_34)\n",
    "print('M5   W=', w_5_round, ', L=', l_56)\n",
    "print('M6   W=', w_6, ', L=', l_56)\n",
    "print()\n",
    "print('5T-OTA performance summary:')\n",
    "print('---------------------------')\n",
    "print('supply current =', i_total/1e-6, 'µA')\n",
    "print('output noise =', output_noise_rms/1e-6, 'µVrms')\n",
    "print('voltage gain error =', (gain_error-1)*100, '%')\n",
    "print('-3dB bandwidth incl. parasitics =', f_bw/1e6, 'MHz')\n",
    "print('turn-on time (slewing+settling) =', (t_slew+t_settle)/1e-6, 'µs')\n",
    "print()\n",
    "print('5T-OTA bias point check:')\n",
    "print('------------------------')\n",
    "print('headroom M1 =', vdd_min-vgs_m34+vgs_m12-vin_max, 'V')\n",
    "print('headroom M4 =', vdd_min-vin_max, 'V')\n",
    "print('headroom M5 =', vin_min-vgs_m12, 'V')"
   ]
  }
 ],
 "metadata": {
  "kernelspec": {
   "display_name": "Python 3 (ipykernel)",
   "language": "python",
   "name": "python3"
  },
  "language_info": {
   "codemirror_mode": {
    "name": "ipython",
    "version": 3
   },
   "file_extension": ".py",
   "mimetype": "text/x-python",
   "name": "python",
   "nbconvert_exporter": "python",
   "pygments_lexer": "ipython3",
   "version": "3.12.5"
  }
 },
 "nbformat": 4,
 "nbformat_minor": 2
}
